{
 "cells": [
  {
   "cell_type": "code",
   "execution_count": null,
   "metadata": {},
   "outputs": [],
   "source": [
    "from langchain.chat_models import ChatOpenAI\n",
    "from langchain.callbacks import StreamingStdOutCallbackHandler\n",
    "from langchain.prompts.example_selector.base import BaseExampleSelector\n",
    "\n",
    "\n",
    "chat = ChatOpenAI(\n",
    "    model=\"gpt-3.5-turbo\",\n",
    "    temperature=0.8,\n",
    "    streaming=True,\n",
    "    callbacks=[\n",
    "        StreamingStdOutCallbackHandler(),\n",
    "    ],\n",
    ")"
   ]
  },
  {
   "cell_type": "markdown",
   "metadata": {},
   "source": [
    "## FewShotPromptTemplate\n"
   ]
  },
  {
   "cell_type": "code",
   "execution_count": 3,
   "metadata": {},
   "outputs": [],
   "source": [
    "examples = [\n",
    "    {\n",
    "        \"question\": \"Tell me about the movie *Inception*.\",\n",
    "        \"answer\": \"\"\"\n",
    "        Here is the information about the movie *Inception*:\n",
    "\n",
    "        **Director:** Christopher Nolan  \n",
    "        **Main Cast:** Leonardo DiCaprio, Joseph Gordon-Levitt, Ellen Page, Tom Hardy  \n",
    "        **Budget:** $160 million  \n",
    "        **Box Office Revenue:** $836.8 million  \n",
    "        **Genre:** Science Fiction, Thriller, Action  \n",
    "        **Synopsis:** A skilled thief, Dom Cobb, who steals secrets through dream invasion, is offered a chance to erase his criminal history if he can plant an idea in someone's mind using a process called 'Inception.'  \n",
    "        \"\"\",\n",
    "    },\n",
    "    {\n",
    "        \"question\": \"What can you tell me about *Parasite*?\",\n",
    "        \"answer\": \"\"\"\n",
    "        Here is the information about the movie *Parasite*:\n",
    "\n",
    "        **Director:** Bong Joon-ho  \n",
    "        **Main Cast:** Song Kang-ho, Lee Sun-kyun, Cho Yeo-jeong, Choi Woo-shik, Park So-dam  \n",
    "        **Budget:** $11 million  \n",
    "        **Box Office Revenue:** $263 million  \n",
    "        **Genre:** Thriller, Drama, Dark Comedy  \n",
    "        **Synopsis:** The story follows the Kim family, who scheme to become employed by a wealthy family, the Parks, by infiltrating their household through deception, leading to unexpected and tragic consequences.  \n",
    "        \"\"\",\n",
    "    },\n",
    "]"
   ]
  },
  {
   "cell_type": "code",
   "execution_count": 15,
   "metadata": {},
   "outputs": [],
   "source": [
    "class RandomExampleSeletor(BaseExampleSelector):\n",
    "    def __init__(self, examples):\n",
    "        self.examples = examples\n",
    "\n",
    "    def add_example(self, example):\n",
    "        self.examples.append(example)\n",
    "\n",
    "    def select_examples(self, input_variables):\n",
    "        from random import choice\n",
    "\n",
    "        print(\"input_variables:\", input_variables)\n",
    "        return [choice(self.examples)]"
   ]
  },
  {
   "cell_type": "code",
   "execution_count": 7,
   "metadata": {},
   "outputs": [
    {
     "data": {
      "text/plain": [
       "\"Human: Tell me about the movie *Inception*.\\nAI: \\n        Here is the information about the movie *Inception*:\\n\\n        **Director:** Christopher Nolan  \\n        **Main Cast:** Leonardo DiCaprio, Joseph Gordon-Levitt, Ellen Page, Tom Hardy  \\n        **Budget:** $160 million  \\n        **Box Office Revenue:** $836.8 million  \\n        **Genre:** Science Fiction, Thriller, Action  \\n        **Synopsis:** A skilled thief, Dom Cobb, who steals secrets through dream invasion, is offered a chance to erase his criminal history if he can plant an idea in someone's mind using a process called 'Inception.'  \\n        \\n\\nHuman: Tell me about the movie Harry Potter and the Sorcerer's Stone\""
      ]
     },
     "execution_count": 7,
     "metadata": {},
     "output_type": "execute_result"
    }
   ],
   "source": [
    "from langchain.prompts.few_shot import FewShotPromptTemplate\n",
    "from langchain.prompts.prompt import PromptTemplate\n",
    "\n",
    "\n",
    "example_prompt = PromptTemplate.from_template(\"Human: {question}\\nAI: {answer}\")\n",
    "\n",
    "example_selector = RandomExampleSeletor(\n",
    "    examples=examples,\n",
    ")\n",
    "\n",
    "prompt = FewShotPromptTemplate(\n",
    "    example_prompt=example_prompt,\n",
    "    example_selector=example_selector,\n",
    "    suffix=\"Human: Tell me about the movie {movie}\",\n",
    "    input_variables=[\"movie\"],\n",
    ")\n",
    "\n",
    "prompt.format(movie=\"Harry Potter and the Sorcerer's Stone\")"
   ]
  },
  {
   "cell_type": "code",
   "execution_count": 8,
   "metadata": {},
   "outputs": [
    {
     "name": "stdout",
     "output_type": "stream",
     "text": [
      "AI:\n",
      "        Here is the information about the movie *Harry Potter and the Sorcerer's Stone*:\n",
      "\n",
      "        **Director:** Chris Columbus  \n",
      "        **Main Cast:** Daniel Radcliffe, Rupert Grint, Emma Watson, Robbie Coltrane, Richard Harris  \n",
      "        **Budget:** $125 million  \n",
      "        **Box Office Revenue:** $974.8 million  \n",
      "        **Genre:** Fantasy, Adventure  \n",
      "        **Synopsis:** The story follows a young boy named Harry Potter who discovers he is a wizard and attends Hogwarts School of Witchcraft and Wizardry, where he uncovers a dark secret about his past and battles the dark wizard Voldemort."
     ]
    },
    {
     "data": {
      "text/plain": [
       "AIMessageChunk(content=\"AI:\\n        Here is the information about the movie *Harry Potter and the Sorcerer's Stone*:\\n\\n        **Director:** Chris Columbus  \\n        **Main Cast:** Daniel Radcliffe, Rupert Grint, Emma Watson, Robbie Coltrane, Richard Harris  \\n        **Budget:** $125 million  \\n        **Box Office Revenue:** $974.8 million  \\n        **Genre:** Fantasy, Adventure  \\n        **Synopsis:** The story follows a young boy named Harry Potter who discovers he is a wizard and attends Hogwarts School of Witchcraft and Wizardry, where he uncovers a dark secret about his past and battles the dark wizard Voldemort.\")"
      ]
     },
     "execution_count": 8,
     "metadata": {},
     "output_type": "execute_result"
    }
   ],
   "source": [
    "chain = prompt | chat\n",
    "chain.invoke({\"movie\": \"Harry Potter and the Sorcerer's Stone\"})"
   ]
  },
  {
   "cell_type": "code",
   "execution_count": null,
   "metadata": {},
   "outputs": [],
   "source": []
  },
  {
   "cell_type": "markdown",
   "metadata": {},
   "source": [
    "### Load prompt\n"
   ]
  },
  {
   "cell_type": "code",
   "execution_count": 30,
   "metadata": {},
   "outputs": [
    {
     "data": {
      "text/plain": [
       "'Tell me about the movie Wicked'"
      ]
     },
     "execution_count": 30,
     "metadata": {},
     "output_type": "execute_result"
    }
   ],
   "source": [
    "from langchain.prompts import load_prompt\n",
    "\n",
    "prompt = load_prompt(\"./prompt.yaml\")\n",
    "prompt.format(movie=\"Wicked\")"
   ]
  },
  {
   "cell_type": "code",
   "execution_count": 39,
   "metadata": {},
   "outputs": [
    {
     "data": {
      "text/plain": [
       "\"Human: Tell me about the movie *Inception*.\\nAI: **Director:** Christopher Nolan\\n**Main Cast:** Leonardo DiCaprio, Joseph Gordon-Levitt, Ellen Page, Tom Hardy\\n**Budget:** $160 million\\n**Box Office Revenue:** $836.8 million\\n**Genre:** Science Fiction, Thriller, Action\\n**Synopsis:** A skilled thief, Dom Cobb, who steals secrets through dream invasion, is offered a chance to erase his criminal history if he can plant an idea in someone's mind using a process called 'Inception.'\\n\\nHuman: What can you tell me about *Parasite*?\\nAI: **Director:** Bong Joon-ho\\n**Main Cast:** Song Kang-ho, Lee Sun-kyun, Cho Yeo-jeong, Choi Woo-shik, Park So-dam\\n**Budget:** $11 million\\n**Box Office Revenue:** $263 million\\n**Genre:** Thriller, Drama, Dark Comedy\\n**Synopsis:** The story follows the Kim family, who scheme to become employed by a wealthy family, the Parks, by infiltrating their household through deception, leading to unexpected and tragic consequences.\\n\\nHuman: Tell me about the movie Wicked\""
      ]
     },
     "execution_count": 39,
     "metadata": {},
     "output_type": "execute_result"
    }
   ],
   "source": [
    "prompt = load_prompt(\"./prompt.json\")\n",
    "prompt.format(movie=\"Wicked\")\n",
    "\n",
    "# load_prompt는 파일의 최상위 레벨에서 _type 키를 사용해 어떤 종류의 프롬프트를 로드할지 결정한다\n",
    "# \"_type\" 키가 없으면 : No `_type` key found, defaulting to `prompt`.\n",
    "# 키 이름은 정해져 있는 듯 (e.g \"template\" -> KeyError: 'example_prompt')"
   ]
  },
  {
   "cell_type": "code",
   "execution_count": 37,
   "metadata": {},
   "outputs": [
    {
     "name": "stdout",
     "output_type": "stream",
     "text": [
      "AI: **Wicked** is actually a popular Broadway musical based on the novel *Wicked: The Life and Times of the Wicked Witch of the West* by Gregory Maguire. The musical, with music and lyrics by Stephen Schwartz, tells the untold story of the witches of Oz, focusing on the friendship between Glinda the Good Witch and Elphaba, the Wicked Witch of the West. The story explores themes of friendship, acceptance, and the nature of good and evil.AI: **Wicked** is actually a popular Broadway musical based on the novel *Wicked: The Life and Times of the Wicked Witch of the West* by Gregory Maguire. The musical, with music and lyrics by Stephen Schwartz, tells the untold story of the witches of Oz, focusing on the friendship between Glinda the Good Witch and Elphaba, the Wicked Witch of the West. The story explores themes of friendship, acceptance, and the nature of good and evil.\n"
     ]
    }
   ],
   "source": [
    "chain = prompt | chat\n",
    "response = chain.invoke({\"movie\": \"Wicked\"})\n",
    "\n",
    "print(response.content)"
   ]
  },
  {
   "cell_type": "code",
   "execution_count": null,
   "metadata": {},
   "outputs": [
    {
     "name": "stdout",
     "output_type": "stream",
     "text": [
      "AI: I'm sorry, but there is no movie titled \"Wicked.\" However, \"Wicked\" is a popular Broadway musical based on the novel \"Wicked: The Life and Times of the Wicked Witch of the West\" by Gregory Maguire. Would you like more information on the musical instead?AI: I'm sorry, but there is no movie titled \"Wicked.\" However, \"Wicked\" is a popular Broadway musical based on the novel \"Wicked: The Life and Times of the Wicked Witch of the West\" by Gregory Maguire. Would you like more information on the musical instead?\n"
     ]
    }
   ],
   "source": [
    "# \"suffix\": \"Human: Tell me about the movie {movie}\\nAI: Please respond with the same format as the examples above.\",\n",
    "prompt = load_prompt(\"./prompt.json\")\n",
    "\n",
    "chain = prompt | chat\n",
    "response = chain.invoke({\"movie\": \"Wicked\"})\n",
    "\n",
    "print(response.content)  # 개봉한지 얼마 안돼서 반영 못한듯 ㅋㅋ"
   ]
  },
  {
   "cell_type": "code",
   "execution_count": null,
   "metadata": {},
   "outputs": [
    {
     "name": "stdout",
     "output_type": "stream",
     "text": [
      "AI: **Director:** Jon Favreau\n",
      "**Main Cast:** Robert Downey Jr., Gwyneth Paltrow, Jeff Bridges, Terrence Howard\n",
      "**Budget:** $140 million\n",
      "**Box Office Revenue:** $585.2 million\n",
      "**Genre:** Action, Sci-Fi\n",
      "**Synopsis:** Billionaire industrialist Tony Stark, who is captured and forced to build a devastating weapon, instead creates a suit of armor to save his own life and escape. He later becomes the superhero Iron Man, using his technology to fight against evil.AI: **Director:** Jon Favreau\n",
      "**Main Cast:** Robert Downey Jr., Gwyneth Paltrow, Jeff Bridges, Terrence Howard\n",
      "**Budget:** $140 million\n",
      "**Box Office Revenue:** $585.2 million\n",
      "**Genre:** Action, Sci-Fi\n",
      "**Synopsis:** Billionaire industrialist Tony Stark, who is captured and forced to build a devastating weapon, instead creates a suit of armor to save his own life and escape. He later becomes the superhero Iron Man, using his technology to fight against evil.\n"
     ]
    }
   ],
   "source": [
    "# \"suffix\": \"Human: Tell me about the movie {movie}\"\n",
    "prompt = load_prompt(\"./prompt.json\")\n",
    "\n",
    "chain = prompt | chat\n",
    "response = chain.invoke({\"movie\": \"Iron Man\"})\n",
    "\n",
    "print(response.content)"
   ]
  },
  {
   "cell_type": "code",
   "execution_count": null,
   "metadata": {},
   "outputs": [],
   "source": []
  },
  {
   "cell_type": "markdown",
   "metadata": {},
   "source": [
    "## FewShotChatMessagePromptTemplate\n"
   ]
  },
  {
   "cell_type": "code",
   "execution_count": 9,
   "metadata": {},
   "outputs": [],
   "source": [
    "from langchain.prompts.few_shot import FewShotChatMessagePromptTemplate\n",
    "from langchain.prompts import ChatPromptTemplate"
   ]
  },
  {
   "cell_type": "code",
   "execution_count": 13,
   "metadata": {},
   "outputs": [],
   "source": [
    "examples = [\n",
    "    {\n",
    "        \"movie\": \"*Inception*.\",\n",
    "        \"answer\": \"\"\"\n",
    "        Here is the information about the movie *Inception*:\n",
    "\n",
    "        **Director:** Christopher Nolan  \n",
    "        **Main Cast:** Leonardo DiCaprio, Joseph Gordon-Levitt, Ellen Page, Tom Hardy  \n",
    "        **Budget:** $160 million  \n",
    "        **Box Office Revenue:** $836.8 million  \n",
    "        **Genre:** Science Fiction, Thriller, Action  \n",
    "        **Synopsis:** A skilled thief, Dom Cobb, who steals secrets through dream invasion, is offered a chance to erase his criminal history if he can plant an idea in someone's mind using a process called 'Inception.'  \n",
    "        \"\"\",\n",
    "    },\n",
    "    {\n",
    "        \"movie\": \"*Parasite*\",\n",
    "        \"answer\": \"\"\"\n",
    "        Here is the information about the movie *Parasite*:\n",
    "\n",
    "        **Director:** Bong Joon-ho  \n",
    "        **Main Cast:** Song Kang-ho, Lee Sun-kyun, Cho Yeo-jeong, Choi Woo-shik, Park So-dam  \n",
    "        **Budget:** $11 million  \n",
    "        **Box Office Revenue:** $263 million  \n",
    "        **Genre:** Thriller, Drama, Dark Comedy  \n",
    "        **Synopsis:** The story follows the Kim family, who scheme to become employed by a wealthy family, the Parks, by infiltrating their household through deception, leading to unexpected and tragic consequences.  \n",
    "        \"\"\",\n",
    "    },\n",
    "]"
   ]
  },
  {
   "cell_type": "code",
   "execution_count": 16,
   "metadata": {},
   "outputs": [],
   "source": [
    "example_selector = RandomExampleSeletor(examples=examples)\n",
    "\n",
    "# example prompt\n",
    "example_prompt = ChatPromptTemplate.from_messages(\n",
    "    [\n",
    "        (\"human\", \"Tell me about the movie {movie}\"),\n",
    "        (\"ai\", \"{answer}\"),\n",
    "    ]\n",
    ")\n",
    "\n",
    "# FewShotChatMessagePromptTemplate\n",
    "prompt = FewShotChatMessagePromptTemplate(\n",
    "    example_prompt=example_prompt,\n",
    "    example_selector=example_selector,\n",
    ")\n",
    "\n",
    "# final prompt\n",
    "final_prompt = ChatPromptTemplate.from_messages(\n",
    "    [\n",
    "        (\"system\", \"You are a well-known movie youtuber\"),\n",
    "        prompt,\n",
    "        # example_prompt,\n",
    "        (\"human\", \"What can you tell me about {movie}?\"),\n",
    "    ]\n",
    ")"
   ]
  },
  {
   "cell_type": "code",
   "execution_count": 21,
   "metadata": {},
   "outputs": [
    {
     "name": "stdout",
     "output_type": "stream",
     "text": [
      "input_variables: {}\n"
     ]
    },
    {
     "data": {
      "text/plain": [
       "'System: You are a well-known movie youtuber\\nHuman: Tell me about the movie *Parasite*\\nAI: \\n        Here is the information about the movie *Parasite*:\\n\\n        **Director:** Bong Joon-ho  \\n        **Main Cast:** Song Kang-ho, Lee Sun-kyun, Cho Yeo-jeong, Choi Woo-shik, Park So-dam  \\n        **Budget:** $11 million  \\n        **Box Office Revenue:** $263 million  \\n        **Genre:** Thriller, Drama, Dark Comedy  \\n        **Synopsis:** The story follows the Kim family, who scheme to become employed by a wealthy family, the Parks, by infiltrating their household through deception, leading to unexpected and tragic consequences.  \\n        \\nHuman: What can you tell me about Pirates of the Caribbean?'"
      ]
     },
     "execution_count": 21,
     "metadata": {},
     "output_type": "execute_result"
    }
   ],
   "source": [
    "final_prompt.format(movie=\"Pirates of the Caribbean\")"
   ]
  },
  {
   "cell_type": "code",
   "execution_count": 17,
   "metadata": {},
   "outputs": [
    {
     "name": "stdout",
     "output_type": "stream",
     "text": [
      "input_variables: {}\n",
      "\n",
      "        **Title:** Harry Potter and the Sorcerer's Stone (known as *Harry Potter and the Philosopher's Stone* outside the US)  \n",
      "        **Director:** Chris Columbus  \n",
      "        **Main Cast:** Daniel Radcliffe, Rupert Grint, Emma Watson, Richard Harris, Maggie Smith, Alan Rickman  \n",
      "        **Budget:** $125 million  \n",
      "        **Box Office Revenue:** $974.8 million  \n",
      "        **Genre:** Fantasy, Adventure  \n",
      "        **Synopsis:** The film follows the story of a young boy named Harry Potter who discovers he is a wizard and is invited to attend Hogwarts School of Witchcraft and Wizardry. Along with his new friends Ron and Hermione, Harry learns about his magical abilities and uncovers a dark secret about his past. Together, they must confront the dark wizard Voldemort and prevent him from returning to power.  \n",
      "           "
     ]
    },
    {
     "data": {
      "text/plain": [
       "AIMessageChunk(content=\"\\n        **Title:** Harry Potter and the Sorcerer's Stone (known as *Harry Potter and the Philosopher's Stone* outside the US)  \\n        **Director:** Chris Columbus  \\n        **Main Cast:** Daniel Radcliffe, Rupert Grint, Emma Watson, Richard Harris, Maggie Smith, Alan Rickman  \\n        **Budget:** $125 million  \\n        **Box Office Revenue:** $974.8 million  \\n        **Genre:** Fantasy, Adventure  \\n        **Synopsis:** The film follows the story of a young boy named Harry Potter who discovers he is a wizard and is invited to attend Hogwarts School of Witchcraft and Wizardry. Along with his new friends Ron and Hermione, Harry learns about his magical abilities and uncovers a dark secret about his past. Together, they must confront the dark wizard Voldemort and prevent him from returning to power.  \\n           \")"
      ]
     },
     "execution_count": 17,
     "metadata": {},
     "output_type": "execute_result"
    }
   ],
   "source": [
    "chain = final_prompt | chat\n",
    "chain.invoke({\"movie\": \"Harry Potter and the Sorcerer's Stone\"})"
   ]
  },
  {
   "cell_type": "code",
   "execution_count": null,
   "metadata": {},
   "outputs": [],
   "source": []
  }
 ],
 "metadata": {
  "kernelspec": {
   "display_name": "env",
   "language": "python",
   "name": "python3"
  },
  "language_info": {
   "codemirror_mode": {
    "name": "ipython",
    "version": 3
   },
   "file_extension": ".py",
   "mimetype": "text/x-python",
   "name": "python",
   "nbconvert_exporter": "python",
   "pygments_lexer": "ipython3",
   "version": "3.11.6"
  }
 },
 "nbformat": 4,
 "nbformat_minor": 2
}
