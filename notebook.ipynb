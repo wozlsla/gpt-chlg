{
 "cells": [
  {
   "cell_type": "code",
   "execution_count": null,
   "metadata": {},
   "outputs": [],
   "source": [
    "# 모델로는 \"gpt-3.5-turbo\"를 사용하고 프롬프트에는 ChatPromptTemplate을 사용하세요.\n",
    "# ChatPromptTemplate : Create a template from messages (PromptTemplate : from string)"
   ]
  },
  {
   "cell_type": "code",
   "execution_count": null,
   "metadata": {},
   "outputs": [],
   "source": [
    "from langchain.chat_models import ChatOpenAI\n",
    "from langchain.prompts import ChatPromptTemplate\n",
    "from langchain.callbacks import StreamingStdOutCallbackHandler\n",
    "\n",
    "\n",
    "chat = ChatOpenAI(\n",
    "    model=\"gpt-3.5-turbo\",\n",
    "    temperature=0.8,\n",
    "    streaming=True,\n",
    "    callbacks=[\n",
    "        StreamingStdOutCallbackHandler(),\n",
    "    ],\n",
    ")"
   ]
  },
  {
   "cell_type": "code",
   "execution_count": 2,
   "metadata": {},
   "outputs": [],
   "source": [
    "poet_prompt = ChatPromptTemplate.from_messages(\n",
    "    [\n",
    "        (\n",
    "            \"system\",\n",
    "            \"You are a creative and eloquent poet who specializes in writing poems about programming languages. Your style can be whimsical, metaphorical, or technical, blending the beauty of poetry with the logic of programming. Ensure your poems are vivid, imaginative, and capture the essence of the requested programming language.\",\n",
    "        ),\n",
    "        # (\"ai\", \"\"),\n",
    "        (\n",
    "            \"human\",\n",
    "            \"Write a poem about the programming language {language}. Highlight its unique characteristics, quirks, and strengths. You can use metaphors, analogies, and creative language to make the poem engaging and insightful. \\\n",
    "            For example: \\\n",
    "            - If the language is Python, you might emphasize simplicity and readability. \\\n",
    "            - If it's C++, you might capture its power and complexity.\",\n",
    "        ),\n",
    "    ]\n",
    ")\n",
    "\n",
    "poet_chain = poet_prompt | chat"
   ]
  },
  {
   "cell_type": "code",
   "execution_count": 9,
   "metadata": {},
   "outputs": [],
   "source": [
    "explainer_prompt = ChatPromptTemplate.from_messages(\n",
    "    [\n",
    "        (\n",
    "            \"system\",\n",
    "            \"You are an insightful poetry analyst who specializes in interpreting poems about programming languages. Your role is to analyze the meaning, metaphors, and stylistic choices within a poem. Provide clear and thoughtful explanations, highlighting how the poem reflects the characteristics of the programming language it is about. Offer interpretations that are easy to understand, while maintaining depth and nuance.\",\n",
    "        ),\n",
    "        (\n",
    "            \"human\",\n",
    "            \"{poem}. Respond is `the input poem` and `your explanation about that`. in Korean.\",\n",
    "        ),\n",
    "    ]\n",
    ")\n",
    "\n",
    "explainer_chain = explainer_prompt | chat"
   ]
  },
  {
   "cell_type": "code",
   "execution_count": 10,
   "metadata": {},
   "outputs": [
    {
     "data": {
      "text/plain": [
       "AIMessage(content='`입력 시`:\\n코드의 땅에 뱀이 돌아다니는 곳,\\n그곳에는 Python이 편안한 곳에서 기어 다닌다.\\n그 문법은 강의 흐름처럼 부드럽다,\\n프로그래머들을 인도하는 곳으로 성장한다.\\n\\n들여쓰기가 이끄는 빛처럼,\\nPython은 우아하게 춤을 추며, 낮과 밤.\\n중괄호가 그 영역을 어지럽히지 않는다,\\n분명함이 다스린다, 불필요한 압박으로부터 자유롭다.\\n\\n뱀이 우아하게 오래된 가죽을 벗는 것처럼,\\nPython은 안정된 속도로 진화한다.\\n겸손한 스크립트에서 AI의 심층적인 예술까지,\\n온화한 마음으로 산을 오른다.\\n\\n동적이고 강력하지만 간단하고 명확하다,\\nPython은 모든 엔지니어의 귓가에 비밀을 속삭인다.\\n넓은 라이브러리는 길들지 않은 숲처럼,\\n프로젝트를 풍요롭게 하며 어떤 코드도 이름이 없게 남겨두지 않는다.\\n\\n언어의 정글 속에서 Python은 키가 크다,\\n모두에게 친구가 되어 부르는 소리에 응답한다.\\n그래서 이 매력적인 뱀에게 잔을 올리자,\\n코드의 영역에서, 그것은 실수가 아니다.\\n\\n`해설`:\\n이 시는 Python 프로그래밍 언어에 대한 은유적인 표현을 담고 있습니다. Python은 간결하고 읽기 쉬운 문법을 가지고 있어 \"강의 흐름처럼 부드럽다\"고 비유되었습니다. 들여쓰기를 강조하는 Python의 특징이 \"들여쓰기가 이끄는 빛처럼\"이라고 표현되었습니다. 중괄호를 사용하지 않아 코드가 깔끔하고 명확하며, 이는 \"중괄호가 그 영역을 어지럽히지 않는다\"로 나타났습니다.\\n\\nPython은 진화하는 언어로서, 다양한 분야에서 활용되고 있는데, 이는 \"Python은 안정된 속도로 진화한다\"라는 비유로 나타났습니다. 또한 Python이 동적이고 강력한 특징을 가지고 있지만 사용하기 간단하고 명확하다는 점이 \"동적이고 강력하지만 간단하고 명확하다\"로 표현되었습니다.\\n\\n시는 Python의 다양한 라이브러리와 프로젝트에 대한 언급을 통해 Python이 다양한 분야에서 활약하고 있음을 강조하며, Python이 프로그래머들에게 비밀을 속삭인다는 표현을 통해 Python이 효율적이고 생산적인 작업을 가능하게 한다는 점을 강조했습니다. 이러한 특징들이 Python을 \"코드의 영역에서 실수가 아닌 선택\"으로 만들어주는 것을 감상할 수 있습니다.')"
      ]
     },
     "execution_count": 10,
     "metadata": {},
     "output_type": "execute_result"
    }
   ],
   "source": [
    "chain = {\"poem\": poet_chain} | explainer_chain\n",
    "\n",
    "chain.invoke({\"language\": \"python\"})"
   ]
  },
  {
   "cell_type": "code",
   "execution_count": null,
   "metadata": {},
   "outputs": [],
   "source": []
  }
 ],
 "metadata": {
  "kernelspec": {
   "display_name": "env",
   "language": "python",
   "name": "python3"
  },
  "language_info": {
   "codemirror_mode": {
    "name": "ipython",
    "version": 3
   },
   "file_extension": ".py",
   "mimetype": "text/x-python",
   "name": "python",
   "nbconvert_exporter": "python",
   "pygments_lexer": "ipython3",
   "version": "3.11.6"
  }
 },
 "nbformat": 4,
 "nbformat_minor": 2
}
